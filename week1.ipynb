{
 "cells": [
  {
   "cell_type": "code",
   "execution_count": 2,
   "metadata": {},
   "outputs": [
    {
     "name": "stdout",
     "output_type": "stream",
     "text": [
      "+------+----+---------+------------+---------+\n",
      "|  Nama|Usia|Pekerjaan|        Hobi|   Gender|\n",
      "+------+----+---------+------------+---------+\n",
      "| zuzan|  19|    pilot|       panik|Perempuan|\n",
      "| dhiya|  20| Pembalap|Servis motor|Perempuan|\n",
      "|sywuul|  17|mahasiswa|     Mancing|Perempuan|\n",
      "| rahma|  17| penyanyi|    Berkebun|Perempuan|\n",
      "+------+----+---------+------------+---------+\n",
      "\n"
     ]
    }
   ],
   "source": [
    "from pyspark.sql import SparkSession\n",
    "\n",
    "spark = SparkSession.builder.appName(\"BigDataPractice\").getOrCreate()\n",
    "\n",
    "data = [(\"zuzan\", 19, \"pilot\", \"panik\", \"Perempuan\"), \n",
    "        (\"dhiya\", 20, \"Pembalap\", \"Servis motor\", \"Perempuan\"), \n",
    "        (\"sywuul\",17, \"mahasiswa\", \"Mancing\", \"Perempuan\"), \n",
    "        (\"rahma\", 17, \"penyanyi\", \"Berkebun\", \"Perempuan\")]\n",
    "columns = [\"Nama\", \"Usia\", \"Pekerjaan\", \"Hobi\", \"Gender\"]\n",
    "\n",
    "df = spark.createDataFrame(data, columns)\n",
    "\n",
    "df.show()"
   ]
  },
  {
   "cell_type": "code",
   "execution_count": 4,
   "metadata": {},
   "outputs": [
    {
     "name": "stdout",
     "output_type": "stream",
     "text": [
      "+------+----+---------+------------+---------+\n",
      "|  Nama|Usia|Pekerjaan|        Hobi|   Gender|\n",
      "+------+----+---------+------------+---------+\n",
      "| zuzan|  19|    pilot|       panik|Perempuan|\n",
      "| dhiya|  20| Pembalap|Servis motor|Perempuan|\n",
      "|sywuul|  17|mahasiswa|     Mancing|Perempuan|\n",
      "| rahma|  17| penyanyi|    Berkebun|Perempuan|\n",
      "+------+----+---------+------------+---------+\n",
      "\n",
      "+----+----+---------+----+------+\n",
      "|Nama|Usia|Pekerjaan|Hobi|Gender|\n",
      "+----+----+---------+----+------+\n",
      "+----+----+---------+----+------+\n",
      "\n",
      "+---------+\n",
      "|avg(Usia)|\n",
      "+---------+\n",
      "|    18.25|\n",
      "+---------+\n",
      "\n",
      "+------+----+---------+------------+---------+\n",
      "|  Nama|Usia|Pekerjaan|        Hobi|   Gender|\n",
      "+------+----+---------+------------+---------+\n",
      "| dhiya|  20| Pembalap|Servis motor|Perempuan|\n",
      "| zuzan|  19|    pilot|       panik|Perempuan|\n",
      "|sywuul|  17|mahasiswa|     Mancing|Perempuan|\n",
      "| rahma|  17| penyanyi|    Berkebun|Perempuan|\n",
      "+------+----+---------+------------+---------+\n",
      "\n"
     ]
    }
   ],
   "source": [
    "from pyspark.sql import SparkSession\n",
    "\n",
    "spark = SparkSession.builder.appName(\"BigDataPractice\").getOrCreate()\n",
    "\n",
    "data = [(\"zuzan\", 19, \"pilot\", \"panik\", \"Perempuan\"), \n",
    "        (\"dhiya\", 20, \"Pembalap\", \"Servis motor\", \"Perempuan\"), \n",
    "        (\"sywuul\",17, \"mahasiswa\", \"Mancing\", \"Perempuan\"), \n",
    "        (\"rahma\", 17, \"penyanyi\", \"Berkebun\", \"Perempuan\")]\n",
    "columns = [\"Nama\", \"Usia\", \"Pekerjaan\", \"Hobi\", \"Gender\"]\n",
    "\n",
    "df = spark.createDataFrame(data, columns)\n",
    "\n",
    "df.show()\n",
    "\n",
    "# Filtering data\n",
    "df_filtered = df.filter(df['Usia'] > 30)\n",
    "df_filtered.show()\n",
    "\n",
    "# Menghitung rata-rata usia\n",
    "from pyspark.sql.functions import avg\n",
    "df.groupBy().agg(avg(\"Usia\")).show()\n",
    "\n",
    "# Mengurutkan data berdasarkan usia\n",
    "df_sorted = df.orderBy(\"Usia\", ascending=False)\n",
    "df_sorted.show()"
   ]
  },
  {
   "cell_type": "code",
   "execution_count": 5,
   "metadata": {},
   "outputs": [
    {
     "data": {
      "text/html": [
       "<div>\n",
       "<style scoped>\n",
       "    .dataframe tbody tr th:only-of-type {\n",
       "        vertical-align: middle;\n",
       "    }\n",
       "\n",
       "    .dataframe tbody tr th {\n",
       "        vertical-align: top;\n",
       "    }\n",
       "\n",
       "    .dataframe thead th {\n",
       "        text-align: right;\n",
       "    }\n",
       "</style>\n",
       "<table border=\"1\" class=\"dataframe\">\n",
       "  <thead>\n",
       "    <tr style=\"text-align: right;\">\n",
       "      <th></th>\n",
       "      <th>Nama</th>\n",
       "      <th>Usia</th>\n",
       "    </tr>\n",
       "  </thead>\n",
       "  <tbody>\n",
       "    <tr>\n",
       "      <th>0</th>\n",
       "      <td>zuzan</td>\n",
       "      <td>19</td>\n",
       "    </tr>\n",
       "    <tr>\n",
       "      <th>1</th>\n",
       "      <td>dhiya</td>\n",
       "      <td>20</td>\n",
       "    </tr>\n",
       "    <tr>\n",
       "      <th>2</th>\n",
       "      <td>sywuul</td>\n",
       "      <td>17</td>\n",
       "    </tr>\n",
       "    <tr>\n",
       "      <th>3</th>\n",
       "      <td>rahma</td>\n",
       "      <td>17</td>\n",
       "    </tr>\n",
       "  </tbody>\n",
       "</table>\n",
       "</div>"
      ],
      "text/plain": [
       "     Nama  Usia\n",
       "0   zuzan    19\n",
       "1   dhiya    20\n",
       "2  sywuul    17\n",
       "3   rahma    17"
      ]
     },
     "execution_count": 5,
     "metadata": {},
     "output_type": "execute_result"
    }
   ],
   "source": [
    "import pandas as pd\n",
    "\n",
    "# Membuat DataFrame Pandas\n",
    "data_pandas = {\"Nama\": [\"zuzan\", \"dhiya\", \"sywuul\", \"rahma\"], \"Usia\": [19, 20, 17, 17]}\n",
    "df_pandas = pd.DataFrame(data_pandas)\n",
    "\n",
    "# Menampilkan DataFrame Pandas\n",
    "df_pandas"
   ]
  },
  {
   "cell_type": "code",
   "execution_count": 6,
   "metadata": {},
   "outputs": [
    {
     "name": "stdout",
     "output_type": "stream",
     "text": [
      "     Nama  Usia  Pekerjaan\n",
      "0   zuzan    19      pilot\n",
      "1   dhiya    20   pembalap\n",
      "2  sywuul    17  mahasiswa\n",
      "3   rahma    17   Penyanyi\n",
      "        Usia\n",
      "count   4.00\n",
      "mean   18.25\n",
      "std     1.50\n",
      "min    17.00\n",
      "25%    17.00\n",
      "50%    18.00\n",
      "75%    19.25\n",
      "max    20.00\n"
     ]
    },
    {
     "data": {
      "image/png": "[encoded data removed]",
      "text/plain": [
       "<Figure size 640x480 with 1 Axes>"
      ]
     },
     "metadata": {},
     "output_type": "display_data"
    }
   ],
   "source": [
    "import pandas as pd\n",
    "\n",
    "# Membuat DataFrame Pandas\n",
    "data_pandas = {\"Nama\": [\"zuzan\", \"dhiya\", \"sywuul\", \"rahma\"], \"Usia\": [19, 20, 17, 17]}\n",
    "df_pandas = pd.DataFrame(data_pandas)\n",
    "\n",
    "# Membuat DataFrame kedua\n",
    "data_pandas_2 = {\"Nama\": [\"zuzan\", \"dhiya\", \"sywuul\", \"rahma\"], \"Pekerjaan\": [\"pilot\", \"pembalap\", \"mahasiswa\", \"Penyanyi\"]}\n",
    "df_pandas_2 = pd.DataFrame(data_pandas_2)\n",
    "\n",
    "# Join antara dua DataFrame\n",
    "df_joined = pd.merge(df_pandas, df_pandas_2, on=\"Nama\")\n",
    "print(df_joined)\n",
    "\n",
    "# Menghitung statistik deskriptif\n",
    "print(df_pandas.describe())\n",
    "\n",
    "# Plotting Data\n",
    "import matplotlib.pyplot as plt\n",
    "df_pandas['Usia'].plot(kind='bar')\n",
    "plt.show()"
   ]
  },
  {
   "cell_type": "code",
   "execution_count": 7,
   "metadata": {},
   "outputs": [
    {
     "name": "stdout",
     "output_type": "stream",
     "text": [
      "+------+----+\n",
      "|  Nama|Usia|\n",
      "+------+----+\n",
      "| zuzan|  19|\n",
      "| dhiya|  20|\n",
      "|sywuul|  17|\n",
      "| rahma|  17|\n",
      "+------+----+\n",
      "\n"
     ]
    },
    {
     "data": {
      "text/plain": [
       "(     Nama  Usia  Pekerjaan          Hobi     Gender\n",
       " 0   zuzan    19      pilot         panik  Perempuan\n",
       " 1   dhiya    20   Pembalap  Servis motor  Perempuan\n",
       " 2  sywuul    17  mahasiswa       Mancing  Perempuan\n",
       " 3   rahma    17   penyanyi      Berkebun  Perempuan,\n",
       " None)"
      ]
     },
     "execution_count": 7,
     "metadata": {},
     "output_type": "execute_result"
    }
   ],
   "source": [
    "# Mengonversi DataFrame dari PySpark ke Pandas\n",
    "df_pandas_from_spark = df.toPandas()\n",
    "\n",
    "# Mengonversi DataFrame dari Pandas ke PySpark\n",
    "df_spark_from_pandas = spark.createDataFrame(df_pandas)\n",
    "\n",
    "# Menampilkan DataFrame hasil konversi\n",
    "df_pandas_from_spark, df_spark_from_pandas.show()"
   ]
  },
  {
   "cell_type": "code",
   "execution_count": 8,
   "metadata": {},
   "outputs": [
    {
     "name": "stdout",
     "output_type": "stream",
     "text": [
      "+------+----+\n",
      "|  Nama|Usia|\n",
      "+------+----+\n",
      "| zuzan|  19|\n",
      "| dhiya|  20|\n",
      "|sywuul|  17|\n",
      "| rahma|  17|\n",
      "+------+----+\n",
      "\n"
     ]
    },
    {
     "data": {
      "text/plain": [
       "(     Nama  Usia  Pekerjaan          Hobi     Gender\n",
       " 0   zuzan    19      pilot         panik  Perempuan\n",
       " 1   dhiya    20   Pembalap  Servis motor  Perempuan\n",
       " 2  sywuul    17  mahasiswa       Mancing  Perempuan\n",
       " 3   rahma    17   penyanyi      Berkebun  Perempuan,\n",
       " None)"
      ]
     },
     "execution_count": 8,
     "metadata": {},
     "output_type": "execute_result"
    }
   ],
   "source": [
    "# Mengonversi DataFrame dari PySpark ke Pandas\n",
    "df_pandas_from_spark = df.toPandas()\n",
    "\n",
    "# Mengonversi DataFrame dari Pandas ke PySpark\n",
    "df_spark_from_pandas = spark.createDataFrame(df_pandas)\n",
    "\n",
    "# Menampilkan DataFrame hasil konversi\n",
    "df_pandas_from_spark, df_spark_from_pandas.show()"
   ]
  },
  {
   "cell_type": "code",
   "execution_count": null,
   "metadata": {},
   "outputs": [],
   "source": []
  }
 ],
 "metadata": {
  "kernelspec": {
   "display_name": "Python 3",
   "language": "python",
   "name": "python3"
  },
  "language_info": {
   "codemirror_mode": {
    "name": "ipython",
    "version": 3
   },
   "file_extension": ".py",
   "mimetype": "text/x-python",
   "name": "python",
   "nbconvert_exporter": "python",
   "pygments_lexer": "ipython3",
   "version": "3.12.1"
  }
 },
 "nbformat": 4,
 "nbformat_minor": 2
}
